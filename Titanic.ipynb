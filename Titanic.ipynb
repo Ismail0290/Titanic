{
  "nbformat": 4,
  "nbformat_minor": 0,
  "metadata": {
    "colab": {
      "provenance": []
    },
    "kernelspec": {
      "name": "python3",
      "display_name": "Python 3"
    },
    "language_info": {
      "name": "python"
    }
  },
  "cells": [
    {
      "cell_type": "code",
      "source": [
        "# Importing necessary libraries\n",
        "import pandas as pd\n",
        "import numpy as np\n",
        "import seaborn as sns\n",
        "import matplotlib.pyplot as plt\n",
        "from sklearn.preprocessing import LabelEncoder, StandardScaler\n"
      ],
      "metadata": {
        "id": "8WFrrFqQzLEQ"
      },
      "execution_count": 16,
      "outputs": []
    },
    {
      "cell_type": "code",
      "source": [
        "# Load dataset\n",
        "df = pd.read_csv('Titanic-Dataset.csv')\n",
        "print(\"Initial Data Preview:\")\n",
        "print(df.head())"
      ],
      "metadata": {
        "colab": {
          "base_uri": "https://localhost:8080/"
        },
        "id": "jDs1b9syzy99",
        "outputId": "e993c33e-0ab5-49a6-c53f-e87c0e43deb2"
      },
      "execution_count": 17,
      "outputs": [
        {
          "output_type": "stream",
          "name": "stdout",
          "text": [
            "Initial Data Preview:\n",
            "   PassengerId  Survived  Pclass  \\\n",
            "0            1         0       3   \n",
            "1            2         1       1   \n",
            "2            3         1       3   \n",
            "3            4         1       1   \n",
            "4            5         0       3   \n",
            "\n",
            "                                                Name     Sex   Age  SibSp  \\\n",
            "0                            Braund, Mr. Owen Harris    male  22.0      1   \n",
            "1  Cumings, Mrs. John Bradley (Florence Briggs Th...  female  38.0      1   \n",
            "2                             Heikkinen, Miss. Laina  female  26.0      0   \n",
            "3       Futrelle, Mrs. Jacques Heath (Lily May Peel)  female  35.0      1   \n",
            "4                           Allen, Mr. William Henry    male  35.0      0   \n",
            "\n",
            "   Parch            Ticket     Fare Cabin Embarked  \n",
            "0      0         A/5 21171   7.2500   NaN        S  \n",
            "1      0          PC 17599  71.2833   C85        C  \n",
            "2      0  STON/O2. 3101282   7.9250   NaN        S  \n",
            "3      0            113803  53.1000  C123        S  \n",
            "4      0            373450   8.0500   NaN        S  \n"
          ]
        }
      ]
    },
    {
      "cell_type": "code",
      "source": [
        "# Show columns to confirm naming\n",
        "print(\"\\nColumn Names:\")\n",
        "print(df.columns)"
      ],
      "metadata": {
        "colab": {
          "base_uri": "https://localhost:8080/"
        },
        "id": "nfWMSClbz4tS",
        "outputId": "875bee62-1fe0-4540-853d-2993224fbf7a"
      },
      "execution_count": 18,
      "outputs": [
        {
          "output_type": "stream",
          "name": "stdout",
          "text": [
            "\n",
            "Column Names:\n",
            "Index(['PassengerId', 'Survived', 'Pclass', 'Name', 'Sex', 'Age', 'SibSp',\n",
            "       'Parch', 'Ticket', 'Fare', 'Cabin', 'Embarked'],\n",
            "      dtype='object')\n"
          ]
        }
      ]
    },
    {
      "cell_type": "code",
      "source": [
        "# Step 2: Basic info\n",
        "print(\"\\nDataset Info:\")\n",
        "print(df.info())"
      ],
      "metadata": {
        "colab": {
          "base_uri": "https://localhost:8080/"
        },
        "id": "GSpRgVpNz7ZH",
        "outputId": "1d5368fa-6c71-4785-9633-442fde0dd005"
      },
      "execution_count": 19,
      "outputs": [
        {
          "output_type": "stream",
          "name": "stdout",
          "text": [
            "\n",
            "Dataset Info:\n",
            "<class 'pandas.core.frame.DataFrame'>\n",
            "RangeIndex: 891 entries, 0 to 890\n",
            "Data columns (total 12 columns):\n",
            " #   Column       Non-Null Count  Dtype  \n",
            "---  ------       --------------  -----  \n",
            " 0   PassengerId  891 non-null    int64  \n",
            " 1   Survived     891 non-null    int64  \n",
            " 2   Pclass       891 non-null    int64  \n",
            " 3   Name         891 non-null    object \n",
            " 4   Sex          891 non-null    object \n",
            " 5   Age          714 non-null    float64\n",
            " 6   SibSp        891 non-null    int64  \n",
            " 7   Parch        891 non-null    int64  \n",
            " 8   Ticket       891 non-null    object \n",
            " 9   Fare         891 non-null    float64\n",
            " 10  Cabin        204 non-null    object \n",
            " 11  Embarked     889 non-null    object \n",
            "dtypes: float64(2), int64(5), object(5)\n",
            "memory usage: 83.7+ KB\n",
            "None\n"
          ]
        }
      ]
    },
    {
      "cell_type": "code",
      "source": [
        "print(\"\\nMissing Values:\")\n",
        "print(df.isnull().sum())"
      ],
      "metadata": {
        "colab": {
          "base_uri": "https://localhost:8080/"
        },
        "id": "YkPSH6Ezz8-q",
        "outputId": "796ca545-d677-4d16-b593-79f2edfb98ff"
      },
      "execution_count": 20,
      "outputs": [
        {
          "output_type": "stream",
          "name": "stdout",
          "text": [
            "\n",
            "Missing Values:\n",
            "PassengerId      0\n",
            "Survived         0\n",
            "Pclass           0\n",
            "Name             0\n",
            "Sex              0\n",
            "Age            177\n",
            "SibSp            0\n",
            "Parch            0\n",
            "Ticket           0\n",
            "Fare             0\n",
            "Cabin          687\n",
            "Embarked         2\n",
            "dtype: int64\n"
          ]
        }
      ]
    },
    {
      "cell_type": "code",
      "source": [
        "# Step 3: Handle missing values\n",
        "# Fill 'Age' column with its median\n",
        "if 'Age' in df.columns:\n",
        "    df['Age'] = df['Age'].fillna(df['Age'].median())"
      ],
      "metadata": {
        "id": "GTuHeicez-nm"
      },
      "execution_count": 21,
      "outputs": []
    },
    {
      "cell_type": "code",
      "source": [
        "# Fill 'Embarked' column with mode\n",
        "if 'Embarked' in df.columns:\n",
        "    df['Embarked'] = df['Embarked'].fillna(df['Embarked'].mode()[0])"
      ],
      "metadata": {
        "id": "UUm5gJRx0Bk-"
      },
      "execution_count": 22,
      "outputs": []
    },
    {
      "cell_type": "code",
      "source": [
        "# Drop 'Cabin' column if it exists (many missing values in Titanic datasets)\n",
        "if 'Cabin' in df.columns:\n",
        "    df = df.drop(columns=['Cabin'])"
      ],
      "metadata": {
        "id": "xATb8KsW0Dup"
      },
      "execution_count": 23,
      "outputs": []
    },
    {
      "cell_type": "code",
      "source": [
        "# Drop any remaining missing values\n",
        "df = df.dropna()"
      ],
      "metadata": {
        "id": "nw4RK5Yy0F7f"
      },
      "execution_count": 24,
      "outputs": []
    },
    {
      "cell_type": "code",
      "source": [
        "# Step 4: Encode categorical columns\n",
        "label_encoder = LabelEncoder()\n",
        "categorical_cols = ['Sex', 'Embarked', 'Pclass', 'Name', 'Ticket', 'SibSp', 'Parch', 'Fare', 'PassengerId']"
      ],
      "metadata": {
        "id": "ZkpNYQGv0Hx1"
      },
      "execution_count": 25,
      "outputs": []
    },
    {
      "cell_type": "code",
      "source": [
        "\n",
        "for col in df.columns:\n",
        "    if df[col].dtype == 'object' and col not in ['Name', 'Ticket']:  # exclude text-heavy ones\n",
        "        df[col] = label_encoder.fit_transform(df[col])"
      ],
      "metadata": {
        "id": "Kq2OS_hQ0Kjf"
      },
      "execution_count": 26,
      "outputs": []
    },
    {
      "cell_type": "code",
      "source": [
        "# Step 5: Normalize/Standardize numeric columns\n",
        "scaler = StandardScaler()\n",
        "num_cols = df.select_dtypes(include=['int64', 'float64']).columns.tolist()"
      ],
      "metadata": {
        "id": "tJ_8Jk1J0M9H"
      },
      "execution_count": 27,
      "outputs": []
    },
    {
      "cell_type": "code",
      "source": [
        "# Remove IDs and categorical numerical labels from normalization\n",
        "exclude_cols = ['PassengerId', 'Pclass', 'SibSp', 'Parch']\n",
        "num_cols = [col for col in num_cols if col not in exclude_cols]"
      ],
      "metadata": {
        "id": "prJ2cuXK0PTC"
      },
      "execution_count": 28,
      "outputs": []
    },
    {
      "cell_type": "code",
      "source": [
        "df[num_cols] = scaler.fit_transform(df[num_cols])"
      ],
      "metadata": {
        "id": "ZpS9LdK60Rlg"
      },
      "execution_count": 29,
      "outputs": []
    },
    {
      "cell_type": "code",
      "source": [
        "# Step 6: Visualize outliers\n",
        "plt.figure(figsize=(12, 5))\n",
        "for i, col in enumerate(num_cols):\n",
        "    plt.subplot(1, len(num_cols), i + 1)\n",
        "    sns.boxplot(y=df[col])\n",
        "    plt.title(f'Boxplot of {col}')\n",
        "plt.tight_layout()\n",
        "plt.show()"
      ],
      "metadata": {
        "colab": {
          "base_uri": "https://localhost:8080/",
          "height": 502
        },
        "id": "C-qWZDUV0Tab",
        "outputId": "432b7116-ba04-4f5d-87be-9dc1835086c6"
      },
      "execution_count": 30,
      "outputs": [
        {
          "output_type": "display_data",
          "data": {
            "text/plain": [
              "<Figure size 1200x500 with 5 Axes>"
            ],
            "image/png": "[encoded data removed]"
          },
          "metadata": {}
        }
      ]
    },
    {
      "cell_type": "code",
      "source": [
        "\n",
        "# Step 7: Remove outliers using IQR method\n",
        "for col in num_cols:\n",
        "    Q1 = df[col].quantile(0.25)\n",
        "    Q3 = df[col].quantile(0.75)\n",
        "    IQR = Q3 - Q1\n",
        "    lower = Q1 - 1.5 * IQR\n",
        "    upper = Q3 + 1.5 * IQR\n",
        "    df = df[(df[col] >= lower) & (df[col] <= upper)]"
      ],
      "metadata": {
        "id": "ErXQ_bbF0VIB"
      },
      "execution_count": 31,
      "outputs": []
    },
    {
      "cell_type": "code",
      "source": [
        "# Final cleaned data\n",
        "print(\"\\nCleaned Data Preview:\")\n",
        "print(df.head())\n",
        "print(\"\\nFinal Shape:\", df.shape)"
      ],
      "metadata": {
        "colab": {
          "base_uri": "https://localhost:8080/"
        },
        "id": "XR2CghyK0Xeq",
        "outputId": "7f28578f-b299-4dc5-be32-0bb7df2a8132"
      },
      "execution_count": 32,
      "outputs": [
        {
          "output_type": "stream",
          "name": "stdout",
          "text": [
            "\n",
            "Cleaned Data Preview:\n",
            "   PassengerId  Survived  Pclass  \\\n",
            "0            1 -0.789272       3   \n",
            "2            3  1.266990       3   \n",
            "3            4  1.266990       1   \n",
            "4            5 -0.789272       3   \n",
            "6            7 -0.789272       1   \n",
            "\n",
            "                                           Name       Sex       Age  SibSp  \\\n",
            "0                       Braund, Mr. Owen Harris  0.737695 -0.565736      1   \n",
            "2                        Heikkinen, Miss. Laina -1.355574 -0.258337      0   \n",
            "3  Futrelle, Mrs. Jacques Heath (Lily May Peel) -1.355574  0.433312      1   \n",
            "4                      Allen, Mr. William Henry  0.737695  0.433312      0   \n",
            "6                       McCarthy, Mr. Timothy J  0.737695  1.893459      0   \n",
            "\n",
            "   Parch            Ticket      Fare  Embarked  \n",
            "0      0         A/5 21171 -0.502445  0.585954  \n",
            "2      0  STON/O2. 3101282 -0.488854  0.585954  \n",
            "3      0            113803  0.420730  0.585954  \n",
            "4      0            373450 -0.486337  0.585954  \n",
            "6      0             17463  0.395814  0.585954  \n",
            "\n",
            "Final Shape: (543, 11)\n"
          ]
        }
      ]
    },
    {
      "cell_type": "code",
      "source": [],
      "metadata": {
        "id": "4hpTjbBh0ZO-"
      },
      "execution_count": null,
      "outputs": []
    }
  ]
}